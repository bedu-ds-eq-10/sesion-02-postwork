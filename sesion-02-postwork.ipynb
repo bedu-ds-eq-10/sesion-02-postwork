{
 "cells": [
  {
   "cell_type": "markdown",
   "id": "0044081d",
   "metadata": {},
   "source": [
    "# _Postwork_ sesión 2\n",
    "\n",
    "#### Objetivo\n",
    "\n",
    "- Conocer algunas de las bases de datos disponibles en `R`\n",
    "- Observar algunas características y manipular los DataFrames con `dplyr`\n",
    "- Realizar visualizaciones con `ggplot`\n",
    "\n",
    "#### Requisitos\n",
    "\n",
    "1. Tener instalado R y RStudio\n",
    "2. Haber realizado el prework y estudiado los ejemplos de la sesión."
   ]
  },
  {
   "cell_type": "markdown",
   "id": "514de3db",
   "metadata": {},
   "source": [
    "#### Desarrollo\n",
    "\n",
    "1) Inspecciona el DataSet iris disponible directamente en la librería de ggplot. \n",
    "Identifica las variables que contiene y su tipo, asegúrate de que no hayan datos faltantes y \n",
    "que los datos se encuentran listos para usarse."
   ]
  },
  {
   "cell_type": "code",
   "execution_count": 3,
   "id": "d7e9df6d",
   "metadata": {},
   "outputs": [
    {
     "data": {
      "text/html": [
       "<table>\n",
       "<thead><tr><th scope=col>Sepal.Length</th><th scope=col>Sepal.Width</th><th scope=col>Petal.Length</th><th scope=col>Petal.Width</th><th scope=col>Species</th></tr></thead>\n",
       "<tbody>\n",
       "\t<tr><td>5.1   </td><td>3.5   </td><td>1.4   </td><td>0.2   </td><td>setosa</td></tr>\n",
       "\t<tr><td>4.9   </td><td>3.0   </td><td>1.4   </td><td>0.2   </td><td>setosa</td></tr>\n",
       "\t<tr><td>4.7   </td><td>3.2   </td><td>1.3   </td><td>0.2   </td><td>setosa</td></tr>\n",
       "\t<tr><td>4.6   </td><td>3.1   </td><td>1.5   </td><td>0.2   </td><td>setosa</td></tr>\n",
       "\t<tr><td>5.0   </td><td>3.6   </td><td>1.4   </td><td>0.2   </td><td>setosa</td></tr>\n",
       "\t<tr><td>5.4   </td><td>3.9   </td><td>1.7   </td><td>0.4   </td><td>setosa</td></tr>\n",
       "</tbody>\n",
       "</table>\n"
      ],
      "text/latex": [
       "\\begin{tabular}{r|lllll}\n",
       " Sepal.Length & Sepal.Width & Petal.Length & Petal.Width & Species\\\\\n",
       "\\hline\n",
       "\t 5.1    & 3.5    & 1.4    & 0.2    & setosa\\\\\n",
       "\t 4.9    & 3.0    & 1.4    & 0.2    & setosa\\\\\n",
       "\t 4.7    & 3.2    & 1.3    & 0.2    & setosa\\\\\n",
       "\t 4.6    & 3.1    & 1.5    & 0.2    & setosa\\\\\n",
       "\t 5.0    & 3.6    & 1.4    & 0.2    & setosa\\\\\n",
       "\t 5.4    & 3.9    & 1.7    & 0.4    & setosa\\\\\n",
       "\\end{tabular}\n"
      ],
      "text/markdown": [
       "\n",
       "| Sepal.Length | Sepal.Width | Petal.Length | Petal.Width | Species |\n",
       "|---|---|---|---|---|\n",
       "| 5.1    | 3.5    | 1.4    | 0.2    | setosa |\n",
       "| 4.9    | 3.0    | 1.4    | 0.2    | setosa |\n",
       "| 4.7    | 3.2    | 1.3    | 0.2    | setosa |\n",
       "| 4.6    | 3.1    | 1.5    | 0.2    | setosa |\n",
       "| 5.0    | 3.6    | 1.4    | 0.2    | setosa |\n",
       "| 5.4    | 3.9    | 1.7    | 0.4    | setosa |\n",
       "\n"
      ],
      "text/plain": [
       "  Sepal.Length Sepal.Width Petal.Length Petal.Width Species\n",
       "1 5.1          3.5         1.4          0.2         setosa \n",
       "2 4.9          3.0         1.4          0.2         setosa \n",
       "3 4.7          3.2         1.3          0.2         setosa \n",
       "4 4.6          3.1         1.5          0.2         setosa \n",
       "5 5.0          3.6         1.4          0.2         setosa \n",
       "6 5.4          3.9         1.7          0.4         setosa "
      ]
     },
     "metadata": {},
     "output_type": "display_data"
    }
   ],
   "source": [
    "# Ejemplo de datos\n",
    "head(iris)"
   ]
  },
  {
   "cell_type": "code",
   "execution_count": 4,
   "id": "d479c460",
   "metadata": {},
   "outputs": [
    {
     "data": {
      "text/html": [
       "<ol class=list-inline>\n",
       "\t<li>'Sepal.Length'</li>\n",
       "\t<li>'Sepal.Width'</li>\n",
       "\t<li>'Petal.Length'</li>\n",
       "\t<li>'Petal.Width'</li>\n",
       "\t<li>'Species'</li>\n",
       "</ol>\n"
      ],
      "text/latex": [
       "\\begin{enumerate*}\n",
       "\\item 'Sepal.Length'\n",
       "\\item 'Sepal.Width'\n",
       "\\item 'Petal.Length'\n",
       "\\item 'Petal.Width'\n",
       "\\item 'Species'\n",
       "\\end{enumerate*}\n"
      ],
      "text/markdown": [
       "1. 'Sepal.Length'\n",
       "2. 'Sepal.Width'\n",
       "3. 'Petal.Length'\n",
       "4. 'Petal.Width'\n",
       "5. 'Species'\n",
       "\n",
       "\n"
      ],
      "text/plain": [
       "[1] \"Sepal.Length\" \"Sepal.Width\"  \"Petal.Length\" \"Petal.Width\"  \"Species\"     "
      ]
     },
     "metadata": {},
     "output_type": "display_data"
    }
   ],
   "source": [
    "# Nombres de los campos (columnas)\n",
    "names(iris)"
   ]
  },
  {
   "cell_type": "code",
   "execution_count": 5,
   "id": "2770bc54",
   "metadata": {},
   "outputs": [
    {
     "name": "stdout",
     "output_type": "stream",
     "text": [
      "'data.frame':\t150 obs. of  5 variables:\n",
      " $ Sepal.Length: num  5.1 4.9 4.7 4.6 5 5.4 4.6 5 4.4 4.9 ...\n",
      " $ Sepal.Width : num  3.5 3 3.2 3.1 3.6 3.9 3.4 3.4 2.9 3.1 ...\n",
      " $ Petal.Length: num  1.4 1.4 1.3 1.5 1.4 1.7 1.4 1.5 1.4 1.5 ...\n",
      " $ Petal.Width : num  0.2 0.2 0.2 0.2 0.2 0.4 0.3 0.2 0.2 0.1 ...\n",
      " $ Species     : Factor w/ 3 levels \"setosa\",\"versicolor\",..: 1 1 1 1 1 1 1 1 1 1 ...\n"
     ]
    }
   ],
   "source": [
    "# Estructura\n",
    "str(iris)"
   ]
  },
  {
   "cell_type": "code",
   "execution_count": 12,
   "id": "8070635e",
   "metadata": {},
   "outputs": [
    {
     "data": {
      "text/html": [
       "TRUE"
      ],
      "text/latex": [
       "TRUE"
      ],
      "text/markdown": [
       "TRUE"
      ],
      "text/plain": [
       "[1] TRUE"
      ]
     },
     "metadata": {},
     "output_type": "display_data"
    }
   ],
   "source": [
    "# ¿Están los datos completos?\n",
    "nrow(iris) == sum(complete.cases(iris))"
   ]
  },
  {
   "cell_type": "markdown",
   "id": "3eee45b0",
   "metadata": {},
   "source": [
    "2) Crea una gráfica de puntos que contenga `Sepal.Length` en el eje horizontal, \n",
    "`Sepal.Width` en el eje vertical, que identifique `Species` por color y que el tamaño \n",
    "de la figura está representado por `Petal.Width`. \n",
    "Asegúrate de que la geometría contenga `shape = 10` y `alpha = 0.5`."
   ]
  },
  {
   "cell_type": "code",
   "execution_count": 26,
   "id": "c41adde5",
   "metadata": {},
   "outputs": [
    {
     "data": {
      "image/png": "[encoded data removed]",
      "text/plain": [
       "plot without title"
      ]
     },
     "metadata": {},
     "output_type": "display_data"
    }
   ],
   "source": [
    "library(ggplot2)\n",
    "graph <- \n",
    "    ggplot(iris,\n",
    "           aes(x = Sepal.Length, y = Sepal.Width, color = Species, size = Petal.Width)) +\n",
    "    geom_point(shape = 10, alpha = 0.5)\n",
    "graph"
   ]
  },
  {
   "cell_type": "markdown",
   "id": "2ff795c9",
   "metadata": {},
   "source": [
    "3) Crea una tabla llamada `iris_mean` que contenga el promedio de todas las variables \n",
    "agrupadas por `Species`."
   ]
  },
  {
   "cell_type": "code",
   "execution_count": 24,
   "id": "562e27c5",
   "metadata": {},
   "outputs": [
    {
     "data": {
      "text/html": [
       "<table>\n",
       "<thead><tr><th scope=col>Species</th><th scope=col>Mean.Sepal.Length</th><th scope=col>Mean.Sepal.Width</th><th scope=col>Mean.Petal.Length</th><th scope=col>Mean.Petal.Width</th></tr></thead>\n",
       "<tbody>\n",
       "\t<tr><td>setosa    </td><td>5.006     </td><td>3.428     </td><td>1.462     </td><td>0.246     </td></tr>\n",
       "\t<tr><td>versicolor</td><td>5.936     </td><td>2.770     </td><td>4.260     </td><td>1.326     </td></tr>\n",
       "\t<tr><td>virginica </td><td>6.588     </td><td>2.974     </td><td>5.552     </td><td>2.026     </td></tr>\n",
       "</tbody>\n",
       "</table>\n"
      ],
      "text/latex": [
       "\\begin{tabular}{r|lllll}\n",
       " Species & Mean.Sepal.Length & Mean.Sepal.Width & Mean.Petal.Length & Mean.Petal.Width\\\\\n",
       "\\hline\n",
       "\t setosa     & 5.006      & 3.428      & 1.462      & 0.246     \\\\\n",
       "\t versicolor & 5.936      & 2.770      & 4.260      & 1.326     \\\\\n",
       "\t virginica  & 6.588      & 2.974      & 5.552      & 2.026     \\\\\n",
       "\\end{tabular}\n"
      ],
      "text/markdown": [
       "\n",
       "| Species | Mean.Sepal.Length | Mean.Sepal.Width | Mean.Petal.Length | Mean.Petal.Width |\n",
       "|---|---|---|---|---|\n",
       "| setosa     | 5.006      | 3.428      | 1.462      | 0.246      |\n",
       "| versicolor | 5.936      | 2.770      | 4.260      | 1.326      |\n",
       "| virginica  | 6.588      | 2.974      | 5.552      | 2.026      |\n",
       "\n"
      ],
      "text/plain": [
       "  Species    Mean.Sepal.Length Mean.Sepal.Width Mean.Petal.Length\n",
       "1 setosa     5.006             3.428            1.462            \n",
       "2 versicolor 5.936             2.770            4.260            \n",
       "3 virginica  6.588             2.974            5.552            \n",
       "  Mean.Petal.Width\n",
       "1 0.246           \n",
       "2 1.326           \n",
       "3 2.026           "
      ]
     },
     "metadata": {},
     "output_type": "display_data"
    }
   ],
   "source": [
    "library(dplyr)\n",
    "iris_mean <- \n",
    "    iris %>%\n",
    "    group_by(Species) %>%\n",
    "    summarize(\n",
    "        Mean.Sepal.Length = mean(Sepal.Length),\n",
    "        Mean.Sepal.Width = mean(Sepal.Width),\n",
    "        Mean.Petal.Length = mean(Petal.Length),\n",
    "        Mean.Petal.Width = mean(Petal.Width)\n",
    "    )\n",
    "iris_mean"
   ]
  },
  {
   "cell_type": "markdown",
   "id": "161060f4",
   "metadata": {},
   "source": [
    "4) Con esta tabla, agrega a tu gráfica anterior otra geometría de puntos para agregar \n",
    "los promedios en la visualización. Asegúrate que el primer argumento de la geometría \n",
    "sea el nombre de tu tabla y que los parámetros sean `shape = 23`, `size = 4`, \n",
    "`fill = 'black'` y `stroke = 2`. También agrega etiquetas, temas y los cambios \n",
    "necesarios para mejorar tu visualización."
   ]
  },
  {
   "cell_type": "code",
   "execution_count": 28,
   "id": "0fcfc21d",
   "metadata": {},
   "outputs": [
    {
     "data": {
      "image/png": "[encoded data removed]",
      "text/plain": [
       "plot without title"
      ]
     },
     "metadata": {},
     "output_type": "display_data"
    }
   ],
   "source": [
    "graph2 <- graph + \n",
    "    geom_point(data = iris_mean, \n",
    "               aes(x = Mean.Sepal.Length, y = Mean.Sepal.Width, color = Species, size = Mean.Petal.Width),\n",
    "               shape = 23, size = 4, fill = \"black\", stroke = 2)\n",
    "graph2"
   ]
  }
 ],
 "metadata": {
  "kernelspec": {
   "display_name": "R",
   "language": "R",
   "name": "ir"
  },
  "language_info": {
   "codemirror_mode": "r",
   "file_extension": ".r",
   "mimetype": "text/x-r-source",
   "name": "R",
   "pygments_lexer": "r",
   "version": "3.6.1"
  }
 },
 "nbformat": 4,
 "nbformat_minor": 5
}
